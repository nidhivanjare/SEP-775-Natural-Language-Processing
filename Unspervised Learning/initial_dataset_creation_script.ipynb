{
  "nbformat": 4,
  "nbformat_minor": 0,
  "metadata": {
    "colab": {
      "provenance": []
    },
    "kernelspec": {
      "name": "python3",
      "display_name": "Python 3"
    },
    "language_info": {
      "name": "python"
    }
  },
  "cells": [
    {
      "cell_type": "code",
      "source": [
        "!pip install sentence-transformers\n"
      ],
      "metadata": {
        "id": "SZe-X8qarWwm"
      },
      "execution_count": null,
      "outputs": []
    },
    {
      "cell_type": "code",
      "execution_count": 4,
      "metadata": {
        "id": "6BIsIbS0q5O5"
      },
      "outputs": [],
      "source": [
        "import re\n",
        "import pandas as pd"
      ]
    },
    {
      "cell_type": "code",
      "source": [
        "from google.colab import drive\n",
        "drive.mount('/content/drive')"
      ],
      "metadata": {
        "id": "GB3iDIkkq513"
      },
      "execution_count": null,
      "outputs": []
    },
    {
      "cell_type": "code",
      "source": [
        "df = pd.read_csv(\"/content/drive/MyDrive/train.csv\")"
      ],
      "metadata": {
        "id": "p2wZ8re7v6KL"
      },
      "execution_count": null,
      "outputs": []
    },
    {
      "cell_type": "code",
      "source": [
        "df.head()"
      ],
      "metadata": {
        "id": "v3S3Dm9YrZXy"
      },
      "execution_count": null,
      "outputs": []
    },
    {
      "cell_type": "code",
      "source": [
        "df['text'] = df['text'].apply(lambda x: re.sub(r'[\\n\\\\/]+', '', str(x)))"
      ],
      "metadata": {
        "id": "ne1uFTuAwUdg"
      },
      "execution_count": null,
      "outputs": []
    },
    {
      "cell_type": "code",
      "source": [
        "df = df.drop_duplicates()\n"
      ],
      "metadata": {
        "id": "BaMXrMzTrbfq"
      },
      "execution_count": null,
      "outputs": []
    },
    {
      "cell_type": "code",
      "source": [
        "df = df.iloc[:10000]"
      ],
      "metadata": {
        "id": "fc_5YTxTwW9M"
      },
      "execution_count": null,
      "outputs": []
    },
    {
      "cell_type": "code",
      "source": [
        "# Filter the DataFrame to create a DataFrame for positive reviews\n",
        "df_positive = df[df['label'] == 1]\n",
        "\n",
        "# Filter the DataFrame to create a DataFrame for negative reviews\n",
        "df_negative = df[df['label'] == 0]"
      ],
      "metadata": {
        "id": "FZ49l3JVthRf"
      },
      "execution_count": null,
      "outputs": []
    },
    {
      "cell_type": "code",
      "source": [
        "import pandas as pd\n",
        "from sentence_transformers import SentenceTransformer\n",
        "from sklearn.metrics.pairwise import cosine_similarity\n",
        "\n",
        "# Generate Embeddings\n",
        "model = SentenceTransformer('all-MiniLM-L6-v2')\n",
        "positive_embeddings = model.encode(df_positive['text'].tolist())\n",
        "negative_embeddings = model.encode(df_negative['text'].tolist())"
      ],
      "metadata": {
        "id": "kAm9kBOGwBoM"
      },
      "execution_count": null,
      "outputs": []
    },
    {
      "cell_type": "code",
      "source": [
        "from sklearn.metrics.pairwise import cosine_similarity\n",
        "import numpy as np\n",
        "\n",
        "# Initialize to store matched pairs\n",
        "matched_pairs = []\n",
        "\n",
        "# Similarity threshold\n",
        "gamma = 0.8\n",
        "for i, x_embedding in enumerate(positive_embeddings):\n",
        "    similarities = cosine_similarity([x_embedding], negative_embeddings)[0]\n",
        "    max_index = np.argmax(similarities)\n",
        "    max_similarity = similarities[max_index]\n",
        "    if max_similarity > gamma:\n",
        "        # Append only the sentences to matched_pairs, not the similarity score\n",
        "        matched_pairs.append((df_positive.iloc[i]['text'], df_negative.iloc[max_index]['text']))\n",
        "\n",
        "# Create a DataFrame from the matched pairs\n",
        "df_matched = pd.DataFrame(matched_pairs, columns=['Sentence_from_X', 'Matched_Sentence_from_Y'])\n",
        "\n",
        "# Display the DataFrame\n",
        "print(df_matched)"
      ],
      "metadata": {
        "id": "PE0nFTsxtinj"
      },
      "execution_count": null,
      "outputs": []
    },
    {
      "cell_type": "code",
      "source": [
        "df_matched.to_excel('data.xlsx', index=False)"
      ],
      "metadata": {
        "id": "lI2weWYSwM3b"
      },
      "execution_count": null,
      "outputs": []
    }
  ]
}